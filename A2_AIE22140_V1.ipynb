{
 "cells": [
  {
   "cell_type": "code",
   "execution_count": 1,
   "metadata": {},
   "outputs": [
    {
     "name": "stdout",
     "output_type": "stream",
     "text": [
      "Euclidean distance=2.0\n",
      "Manhattton distance=4\n"
     ]
    }
   ],
   "source": [
    "import math\n",
    "#function to find the Euclidean Distance\n",
    "def Euclidean_Dist(a,b):\n",
    "    c = 0\n",
    "    for i in range(len(a)):\n",
    "        c += (a[i] - b[i])**2\n",
    "    return math.sqrt(c)\n",
    "#function to find the manhatton Distance\n",
    "def Manhatton_Dist(a,b):\n",
    "    distance = 0\n",
    "    for i in range(len(a)):\n",
    "        distance += abs(a[i] - b[i])\n",
    "\n",
    "    return distance\n",
    "#Main part to give the inputs of the Vectors to find Distances\n",
    "n=int(input(\"enter the dimensions of the vector\"))\n",
    "a=[0 for i in range(n)]\n",
    "b=[0 for i in range(n)]\n",
    "for i in range(n):\n",
    "    a[i]=int(input(f\"enter the element a{i}:\"))\n",
    "    b[i]=int(input(f\"enter the element b{i}:\"))\n",
    "#output part\n",
    "ans=Euclidean_Dist(a,b)\n",
    "ans1=Manhatton_Dist(a,b)\n",
    "print(f\"Euclidean distance={ans}\")\n",
    "print(f\"Manhattton distance={ans1}\")"
   ]
  },
  {
   "cell_type": "code",
   "execution_count": 8,
   "metadata": {},
   "outputs": [
    {
     "name": "stdout",
     "output_type": "stream",
     "text": [
      "the reesult using label encoding:[0, 1, 0, 2, 1, 2, 0]\n"
     ]
    }
   ],
   "source": [
    "#Function fo Getting the label encoding for a given type of feature of a function  \n",
    "def label_Encoding(a):\n",
    "    b=[0 for i in range(len(a))]\n",
    "    Unique_set=[]\n",
    "    for i in a:\n",
    "        if i not in Unique_set:\n",
    "            Unique_set.append(i)\n",
    "    for i in range(len(a)):\n",
    "        for j in Unique_set:\n",
    "            if a[i]==j:\n",
    "                b[i]=Unique_set.index(j)\n",
    "    return b\n",
    "#output part\n",
    "a=[\"red\",\"blue\",\"red\",\"green\",\"blue\",\"green\",\"red\"]\n",
    "b=label_Encoding(a)\n",
    "print(f\"the reesult using label encoding:{b}\")"
   ]
  },
  {
   "cell_type": "code",
   "execution_count": 2,
   "metadata": {},
   "outputs": [
    {
     "name": "stdout",
     "output_type": "stream",
     "text": [
      "the result using one hot encoding:[[1, 0, 0], [0, 1, 0], [1, 0, 0], [0, 0, 1], [0, 1, 0], [0, 0, 1], [1, 0, 0]]\n"
     ]
    }
   ],
   "source": [
    "#Function fo Getting t encoding for a given type of feature of a function \n",
    "def one_hot_encoding(a):\n",
    "    b=[]\n",
    "    Unique_set=[]\n",
    "    #for Getting a set of only unique items from the input set\n",
    "    for i in a:\n",
    "        if i not in Unique_set:\n",
    "            Unique_set.append(i)\n",
    "    #Creating a category Set of a particular feature of an instance and adding it to the output list\n",
    "    for i in range(len(a)):\n",
    "        category=[0 for i in range(len(Unique_set))]\n",
    "        for j in Unique_set:\n",
    "            if a[i]==j:\n",
    "                category[Unique_set.index(j)]=1\n",
    "                b.append(category)\n",
    "    return b\n",
    "#output part\n",
    "a=[\"red\",\"blue\",\"red\",\"green\",\"blue\",\"green\",\"red\"]\n",
    "b=one_hot_encoding(a)\n",
    "print(f\"the result using one hot encoding:{b}\")"
   ]
  },
  {
   "cell_type": "code",
   "execution_count": 4,
   "metadata": {},
   "outputs": [
    {
     "name": "stdout",
     "output_type": "stream",
     "text": [
      "the first 3 neigbouring distances in the given instances are [(0.7071067811865476, 'A'), (0.7071067811865476, 'B'), (2.1213203435596424, 'A')]\n",
      "The predicted class for the test point is: A\n"
     ]
    }
   ],
   "source": [
    "import numpy as np\n",
    "import math\n",
    "#function to find the Euclidean Distance\n",
    "def Euclidean_Dist(a,b):\n",
    "    c = 0\n",
    "    for i in range(len(a)):\n",
    "        c += (a[i] - b[i])**2\n",
    "    return math.sqrt(c)\n",
    "#Function to get the prediction of the test set using the K-NN algorithm.\n",
    "def k_nearest_neighbors(Numbers_train, y_train, x_test, k):\n",
    "    distances = []\n",
    "\n",
    "    # Calculate distances from x_test to each point in X_train\n",
    "    for i in range(len(Numbers_train)):\n",
    "        distance = Euclidean_Dist(x_test, Numbers_train[i])\n",
    "        distances.append((distance, y_train[i]))\n",
    "\n",
    "    # Sort distances in ascending order\n",
    "    distances.sort(key=lambda x: x[0])\n",
    "\n",
    "    # Select the first k neighbors\n",
    "    neighbors = distances[:k]\n",
    "    print(f\"the first {k} neigbouring distances in the given instances are {neighbors}\")\n",
    "    # Count the occurrences of each class among the neighbors\n",
    "    class_counts = {}\n",
    "    for neighbor in neighbors:\n",
    "        label = neighbor[1]\n",
    "        class_counts[label] = class_counts.get(label, 0) + 1\n",
    "\n",
    "    # Return the class label with the highest count\n",
    "    predicted_label = max(class_counts, key=class_counts.get)\n",
    "    return predicted_label\n",
    "\n",
    "# Example:\n",
    "Numbers_train = np.array([[1, 2], [2, 3], [3, 4], [4, 5]])\n",
    "Features_train = np.array(['A', 'A', 'B', 'B'])\n",
    "test = np.array([2.5, 3.5])\n",
    "k_value = 3\n",
    "\n",
    "predicted_class = k_nearest_neighbors(Numbers_train, Features_train, test, k_value)\n",
    "print(f\"The predicted class for the test point is: {predicted_class}\")\n"
   ]
  }
 ],
 "metadata": {
  "kernelspec": {
   "display_name": "Python 3",
   "language": "python",
   "name": "python3"
  },
  "language_info": {
   "codemirror_mode": {
    "name": "ipython",
    "version": 3
   },
   "file_extension": ".py",
   "mimetype": "text/x-python",
   "name": "python",
   "nbconvert_exporter": "python",
   "pygments_lexer": "ipython3",
   "version": "3.12.0"
  }
 },
 "nbformat": 4,
 "nbformat_minor": 2
}
