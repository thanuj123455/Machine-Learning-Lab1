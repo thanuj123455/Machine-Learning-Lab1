{
 "cells": [
  {
   "cell_type": "markdown",
   "metadata": {},
   "source": [
    "QUESTION-1"
   ]
  },
  {
   "cell_type": "code",
   "execution_count": 7,
   "metadata": {},
   "outputs": [
    {
     "name": "stdout",
     "output_type": "stream",
     "text": [
      "the no of vowels: 3\n",
      "the no of consonents: 3\n"
     ]
    }
   ],
   "source": [
    "def finding_vowels(string):#function for finding the vowels\n",
    "    count_vowels=0\n",
    "    count_consonents=0\n",
    "    vowels=\"aeiouAEIOU\" #the vowel string    \n",
    "    for char in string:# for checking if the entered string consists the vowels\n",
    "       if char in vowels:\n",
    "           count_vowels+=1\n",
    "       else:\n",
    "           count_consonents+=1\n",
    "    return count_consonents, count_vowels\n",
    "\"\"\"MAIN\"\"\"\n",
    "string=input(\"enter the string: \")#input for entering the string \n",
    "[a,b]=finding_vowels(string)#calling the function\n",
    "#printing the number of vowels and consonents\n",
    "print(\"the no of vowels:\",b)\n",
    "print(\"the no of consonents:\",a)"
   ]
  },
  {
   "cell_type": "markdown",
   "metadata": {},
   "source": [
    "QUESTION-2"
   ]
  },
  {
   "cell_type": "code",
   "execution_count": 2,
   "metadata": {},
   "outputs": [
    {
     "name": "stdout",
     "output_type": "stream",
     "text": [
      "Matrix product AB:\n",
      "[5, 8, 11, 14]\n",
      "[5, 8, 11, 14]\n"
     ]
    }
   ],
   "source": [
    "def multiply(A,B,ROW_A,COL_A,ROW_B,COL_B):#function for multiplying the given matrices\n",
    "    if COL_A!=ROW_B:#checking if the columns of A and rows of B are equal or not \n",
    "        print(\"multiplication not possible\")\n",
    "        return None\n",
    "    else:\n",
    "        C=[[0 for _ in range(COL_B)]for _ in range(ROW_A)]#creating an empty matrix for getting the matrix\n",
    "        for i in range(ROW_A):#logic \n",
    "            for j in range(COL_B):\n",
    "                for k in range(COL_A):\n",
    "                    C[i][j] += A[i][k] * B[k][j]\n",
    "\n",
    "    return C\n",
    "\n",
    "#for the matrix A\n",
    "ROW_A=int(input(\"enter the number of rows of A\"))\n",
    "COL_A=int(input(\"enter the number of cols of A\"))\n",
    "A=[[int(input(f\"enter the element of A{i}{j}\"))for j in range(COL_A)]for i in range(ROW_A)]\n",
    "\n",
    "#for the matrix B\n",
    "ROW_B=int(input(\"enter the number of rows of B\"))\n",
    "COL_B=int(input(\"enter the number of cols of B\"))\n",
    "B=[[int(input(f\"enter the element of B{i},{j}\"))for j in range(COL_B)]for i in range(ROW_B)]\n",
    "\n",
    "C=multiply(A,B,ROW_A,COL_A,ROW_B,COL_B)#calling the function\n",
    "print(\"Matrix product AB:\")\n",
    "for row in C:\n",
    "    print(row)"
   ]
  },
  {
   "cell_type": "markdown",
   "metadata": {},
   "source": [
    "Question 3"
   ]
  },
  {
   "cell_type": "code",
   "execution_count": 4,
   "metadata": {},
   "outputs": [
    {
     "name": "stdout",
     "output_type": "stream",
     "text": [
      "{2, 3}\n"
     ]
    }
   ],
   "source": [
    "def find_sameValues(L1,L2):#function for finding the same values in the sets\n",
    "    L3=L1.intersection(L2)# using the intersection function for geting the output \n",
    "    return L3\n",
    "#enter the sets\n",
    "L2={2,3,4,5,10}\n",
    "L1={3,2,12,3,23}\n",
    "L3=find_sameValues(L1,L2)# calling the function for finding the same values\n",
    "print(L3)\n"
   ]
  },
  {
   "cell_type": "markdown",
   "metadata": {},
   "source": [
    "Question 4"
   ]
  },
  {
   "cell_type": "code",
   "execution_count": 5,
   "metadata": {},
   "outputs": [
    {
     "name": "stdout",
     "output_type": "stream",
     "text": [
      "[[1, 2], [4, 3]]\n"
     ]
    }
   ],
   "source": [
    "def Transpose(matrix):#function for finding the transpose\n",
    "    result=[[0 for _ in range(len(matrix))]for _ in range(len(matrix[0]))]#creating an empty set for storing Transpose of the matrix\n",
    "    for i in range(len(matrix)):#logic for getting the transpose\n",
    "        for j in range(len(matrix[0])):\n",
    "            result[j][i]=matrix[i][j]\n",
    "\n",
    "    return result\n",
    "matrix=[[1,4],[2,3]]#the input matrix\n",
    "L3=Transpose(matrix)#calling the function \n",
    "print(L3)#printing the result"
   ]
  }
 ],
 "metadata": {
  "kernelspec": {
   "display_name": "Python 3",
   "language": "python",
   "name": "python3"
  },
  "language_info": {
   "codemirror_mode": {
    "name": "ipython",
    "version": 3
   },
   "file_extension": ".py",
   "mimetype": "text/x-python",
   "name": "python",
   "nbconvert_exporter": "python",
   "pygments_lexer": "ipython3",
   "version": "3.12.0"
  }
 },
 "nbformat": 4,
 "nbformat_minor": 2
}
