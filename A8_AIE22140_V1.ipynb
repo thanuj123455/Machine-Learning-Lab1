{
 "cells": [
  {
   "cell_type": "code",
   "execution_count": 2,
   "metadata": {},
   "outputs": [],
   "source": [
    "import numpy as np\n",
    "from collections import Counter"
   ]
  },
  {
   "cell_type": "code",
   "execution_count": 3,
   "metadata": {},
   "outputs": [],
   "source": [
    "\n",
    "\n",
    "def entropy(y):\n",
    "    \"\"\"Calculate the entropy of a dataset.\"\"\"\n",
    "    # Count the occurrences of each class\n",
    "    counts = np.bincount(y)\n",
    "    probabilities = counts / len(y)\n",
    "    # Filter out zero probabilities to avoid math error in np.log2\n",
    "    probabilities = probabilities[probabilities > 0]\n",
    "    return -np.sum(probabilities * np.log2(probabilities))\n",
    "\n",
    "def conditional_entropy(x, y):\n",
    "    \"\"\"Calculate the conditional entropy of y given x.\"\"\"\n",
    "    # Entropy accumulator\n",
    "    entropy_acc = 0\n",
    "    # Iterate over each category in x to calculate conditional entropy\n",
    "    for value in np.unique(x):\n",
    "        subset_y = y[x == value]\n",
    "        entropy_acc += (len(subset_y) / len(y)) * entropy(subset_y)\n",
    "    return entropy_acc\n",
    "\n",
    "def information_gain(X, y, feature_index):\n",
    "    \"\"\"Calculate the Information Gain of a feature.\"\"\"\n",
    "    return entropy(y) - conditional_entropy(X[:, feature_index], y)\n",
    "\n",
    "def find_root_node(X, y):\n",
    "    \"\"\"Find the feature index that should be used as the root node.\"\"\"\n",
    "    gains = [information_gain(X, y, feature_index) for feature_index in range(X.shape[1])]\n",
    "    return np.argmax(gains)\n"
   ]
  },
  {
   "cell_type": "code",
   "execution_count": 4,
   "metadata": {},
   "outputs": [],
   "source": [
    "def bin_continuous_values(x, n_bins=3, strategy=\"width\"):\n",
    "    \"\"\"Bin continuous values into categorical.\"\"\"\n",
    "    if strategy == \"width\":\n",
    "        # Equal width binning\n",
    "        bins = np.linspace(np.min(x), np.max(x), n_bins + 1)\n",
    "        return np.digitize(x, bins) - 1\n",
    "    elif strategy == \"frequency\":\n",
    "        # Equal frequency binning (quantiles)\n",
    "        quantiles = np.quantile(x, np.linspace(0, 1, n_bins + 1))\n",
    "        return np.digitize(x, quantiles) - 1\n",
    "    else:\n",
    "        raise ValueError(\"Unsupported binning strategy\")\n"
   ]
  },
  {
   "cell_type": "code",
   "execution_count": 5,
   "metadata": {},
   "outputs": [],
   "source": [
    "class SimpleDecisionTree:\n",
    "    def __init__(self):\n",
    "        self.root = None\n",
    "        self.predictions = None\n",
    "\n",
    "    def fit(self, X, y, n_bins=3, bin_strategy=\"width\"):\n",
    "        # Bin continuous values if necessary\n",
    "        if X.dtype == np.float:\n",
    "            for i in range(X.shape[1]):\n",
    "                X[:, i] = bin_continuous_values(X[:, i], n_bins, bin_strategy)\n",
    "        \n",
    "        # Find the root node using Information Gain\n",
    "        self.root = find_root_node(X, y)\n",
    "        \n",
    "        # Store class predictions based on the selected feature for simplicity\n",
    "        self.predictions = {}\n",
    "        for value in np.unique(X[:, self.root]):\n",
    "            subset_y = y[X[:, self.root] == value]\n",
    "            self.predictions[value] = Counter(subset_y).most_common(1)[0][0]\n",
    "\n",
    "    def predict(self, X):\n",
    "        if X.dtype == np.float:\n",
    "            raise ValueError(\"Prediction data must be binned categorical values\")\n",
    "        \n",
    "        # Predict based on the majority class of the split by the root feature\n",
    "        return np.array([self.predictions.get(x[self.root], None) for x in X])\n",
    "\n"
   ]
  }
 ],
 "metadata": {
  "kernelspec": {
   "display_name": "Python 3",
   "language": "python",
   "name": "python3"
  },
  "language_info": {
   "codemirror_mode": {
    "name": "ipython",
    "version": 3
   },
   "file_extension": ".py",
   "mimetype": "text/x-python",
   "name": "python",
   "nbconvert_exporter": "python",
   "pygments_lexer": "ipython3",
   "version": "3.11.5"
  }
 },
 "nbformat": 4,
 "nbformat_minor": 2
}
